{
 "cells": [
  {
   "cell_type": "code",
   "execution_count": 77,
   "metadata": {},
   "outputs": [],
   "source": [
    "import pefile\n",
    "import os.path\n",
    "from os import scandir, getcwd\n",
    "import pefile\n",
    "import os\n",
    "import shutil\n",
    "from os import listdir\n",
    "from os.path import isfile, join\n",
    "import shutil\n",
    "import os\n",
    "import pandas as pd\n",
    "from sklearn.feature_extraction.text import CountVectorizer\n",
    "from sklearn.cluster import KMeans\n",
    "import matplotlib.pyplot as plt\n",
    "from yellowbrick.cluster import SilhouetteVisualizer\n",
    "from sklearn.metrics import silhouette_score\n",
    "import numpy as np"
   ]
  },
  {
   "cell_type": "code",
   "execution_count": 3,
   "metadata": {},
   "outputs": [],
   "source": [
    "pe = pefile.PE(\"./MALWR/1F2EB7B090018D975E6D9B40868C94CA\")"
   ]
  },
  {
   "cell_type": "code",
   "execution_count": 5,
   "metadata": {},
   "outputs": [
    {
     "name": "stdout",
     "output_type": "stream",
     "text": [
      "b'KERNEL32.DLL'\n",
      "\t b'LoadLibraryA'\n",
      "\t b'ExitProcess'\n",
      "\t b'GetProcAddress'\n",
      "\t b'VirtualProtect'\n",
      "b'MSVCRT.dll'\n",
      "\t b'atol'\n",
      "b'USER32.dll'\n",
      "\t b'LoadStringA'\n",
      "b'WS2_32.dll'\n",
      "\t b'send'\n",
      "TimeDateStamp : Fri Jan 15 17:20:56 2010 UTC\n",
      "TimeDateStamp: 0x4b50a3f8\n"
     ]
    }
   ],
   "source": [
    "for section in pe.sections:\n",
    "    var = section.Name, hex(section.VirtualAddress), hex(section.Misc_VirtualSize), section.SizeOfRawData\n",
    "\n",
    "for entry in pe.DIRECTORY_ENTRY_IMPORT:\n",
    "    var2 = entry.dll\n",
    "    print (var2)\n",
    "    for function in entry.imports:\n",
    "        var3 = function.name\n",
    "        print ('\\t', var3)\n",
    "\n",
    "print(\"TimeDateStamp : \" + pe.FILE_HEADER.dump_dict()['TimeDateStamp']['Value'].split('[')[1][:-1])\n",
    "print(\"TimeDateStamp: \"+hex(pe.FILE_HEADER.TimeDateStamp))"
   ]
  },
  {
   "cell_type": "code",
   "execution_count": 7,
   "metadata": {},
   "outputs": [],
   "source": [
    "def ls(ruta = getcwd()):\n",
    "    return [arch.name for arch in scandir(ruta) if arch.is_file()]"
   ]
  },
  {
   "cell_type": "code",
   "execution_count": 11,
   "metadata": {},
   "outputs": [],
   "source": [
    "name = []\n",
    "description = []"
   ]
  },
  {
   "cell_type": "code",
   "execution_count": 18,
   "metadata": {},
   "outputs": [],
   "source": [
    "malwr_file_names = [f for f in listdir(\"MALWR\") if isfile(\n",
    "    join(\"MALWR\", f)) if f != \".DS_Store\"]"
   ]
  },
  {
   "cell_type": "code",
   "execution_count": 21,
   "metadata": {},
   "outputs": [
    {
     "name": "stderr",
     "output_type": "stream",
     "text": [
      "sh: 1: upx: not found\n",
      "sh: 1: upx: not found\n",
      "sh: 1: upx: not found\n",
      "sh: 1: upx: not found\n",
      "sh: 1: upx: not found\n",
      "sh: 1: upx: not found\n",
      "sh: 1: upx: not found\n",
      "sh: 1: upx: not found\n",
      "sh: 1: upx: not found\n",
      "sh: 1: upx: not found\n",
      "sh: 1: upx: not found\n",
      "sh: 1: upx: not found\n",
      "sh: 1: upx: not found\n",
      "sh: 1: upx: not found\n",
      "sh: 1: upx: not found\n",
      "sh: 1: upx: not found\n",
      "sh: 1: upx: not found\n",
      "sh: 1: upx: not found\n",
      "sh: 1: upx: not found\n",
      "sh: 1: upx: not found\n",
      "sh: 1: upx: not found\n",
      "sh: 1: upx: not found\n",
      "sh: 1: upx: not found\n",
      "sh: 1: upx: not found\n",
      "sh: 1: upx: not found\n",
      "sh: 1: upx: not found\n",
      "sh: 1: upx: not found\n",
      "sh: 1: upx: not found\n",
      "sh: 1: upx: not found\n",
      "sh: 1: upx: not found\n",
      "sh: 1: upx: not found\n",
      "sh: 1: upx: not found\n"
     ]
    }
   ],
   "source": [
    "for file_name in malwr_file_names:\n",
    "    target_file_name = file_name+\"\"\n",
    "    pe = pefile.PE(\"MALWR/\"+file_name)\n",
    "    needs_unpack = False\n",
    "    for section in pe.sections:\n",
    "        if \"UPX\" in section.Name.decode(errors='replace',):\n",
    "            needs_unpack = True\n",
    "    if needs_unpack:\n",
    "        target_file_name += \"_unpacked\"\n",
    "        os.system(\"upx -d \" + \"MALWR/\"+file_name)\n",
    "\n",
    "    original = \"MALWR/\"+file_name\n",
    "    target = \"MALWARE/\"+target_file_name\n",
    "    shutil.copyfile(original, target)"
   ]
  },
  {
   "cell_type": "code",
   "execution_count": 23,
   "metadata": {},
   "outputs": [],
   "source": [
    "clean_file_names = [f for f in listdir(\"MALWARE\") if isfile(\n",
    "    join(\"MALWARE\", f)) if f != \".DS_Store\"]"
   ]
  },
  {
   "cell_type": "code",
   "execution_count": 25,
   "metadata": {},
   "outputs": [],
   "source": [
    "malwares = ls(\"./MALWARE/\")"
   ]
  },
  {
   "cell_type": "code",
   "execution_count": 26,
   "metadata": {},
   "outputs": [
    {
     "data": {
      "text/plain": [
       "['GBV66_8F259BB36E00D124963CFA9B86F502E',\n",
       " '99A39866A657A10949FCB6D634BB30D5_unpacked',\n",
       " 'L11_1415EB8519D13328091CC5C76A624E3D_unpacked',\n",
       " '8442AE37B91F279A9F06DE4C60B286A3_unpacked',\n",
       " 'NV99_C9C9DBF388A8D81D8CFB4D3FC05F8E4',\n",
       " 'GFT4_7DDD3D72EAD03C7518F5D47650C8572',\n",
       " 'A316D5AECA269CA865077E7FFF356E7D_unpacked',\n",
       " 'VC990_468FF2C12CFFC7E5B2FE0EE6BB3B239E_unpacked',\n",
       " 'FGTR43_EF8E0FB20E7228C7492CCDC59D87C690_unpacked',\n",
       " 'KLp90_6D5C8FC4B14559F73B6136D85B94198',\n",
       " 'DS22_A670D13D4D014169C4080328B8FEB86',\n",
       " 'NBV_8B75BCBFF174C25A0161F30758509A44_unpacked',\n",
       " 'B98hX8E8622C393D7E832D39E620EAD5D3B49_unpacked',\n",
       " 'JKK8CA6FE7A1315AF5AFEAC2961460A80569_unpacked',\n",
       " 'RTC_7F85D7F628CE62D1D8F7B39D8940472_unpacked',\n",
       " 'PL98_BD8B082B7711BC980252F988BB0CA936_unpacked',\n",
       " 'JH78C0A33A1B472A8C16123FD696A5CE5EBB_unpacked',\n",
       " '33DE5067A433A6EC5C328067DC18EC37_unpacked',\n",
       " 'FTTR9EA3C16194CE354C244C1B74C46CD92E_unpacked',\n",
       " 'AL65_DB05DF0498B59B42A8E493CF3C10C578_unpacked',\n",
       " '1F2EB7B090018D975E6D9B40868C94CA_unpacked',\n",
       " 'BVJ2D9FBF759F527AF373E34673DC3ACA462_unpacked',\n",
       " 'POL55_A4F1ECC4D25B33395196B5D51A06790',\n",
       " 'HJGQDD892986B2249B5214639ECC8AC0223_unpacked',\n",
       " 'FGJKJJ1_2BA0D0083976A5C1E3315413CDCFFCD2_unpacked',\n",
       " 'F8437E44748D2C3FCF84019766F4E6DC_unpacked',\n",
       " '6FAA4740F99408D4D2DDDD0B09BBDEFD_unpacked',\n",
       " 'K99_C3A9A7B026BFE0E55FF219FD6AA7D94',\n",
       " 'VBMM9_149B7BD7218AAB4E257D28469FDDB0D_unpacked',\n",
       " 'FHHH6576C196385407B0F7F4B1B537D88983_unpacked',\n",
       " '65018CD542145A3792BA09985734C12A_unpacked',\n",
       " 'F6655E39465C2FF5B016980D918EA028_unpacked',\n",
       " 'B07322743778B5868475DBE66EEDAC4F_unpacked',\n",
       " 'AAAz2E1B6940985A23E5639450F8391820655_unpacked',\n",
       " 'EEE99EC8AA67B05407C01094184C33D2B5A44_unpacked',\n",
       " 'TG78Z__727A6800991EEAD454E53E8AF164A99C_unpacked',\n",
       " 'QW2_4C6BDDCCA2695D6202DF38708E14FC7E_unpacked',\n",
       " '650A6FCA433EE243391E4B4C11F09438_unpacked',\n",
       " '785003A405BC7A4EBCBB21DDB757BF3F_unpacked',\n",
       " 'SAM_B659D71AE168E774FAAF38DB30F4A84']"
      ]
     },
     "execution_count": 26,
     "metadata": {},
     "output_type": "execute_result"
    }
   ],
   "source": [
    "malwares"
   ]
  },
  {
   "cell_type": "code",
   "execution_count": 27,
   "metadata": {},
   "outputs": [],
   "source": [
    "for i in malwares:\n",
    "    pe = pefile.PE(\"./MALWARE/\"+i)\n",
    "    name.append(i)\n",
    "    sections_text = \"Sections:\\n\"\n",
    "    for section in pe.sections:\n",
    "        sections_text += f\"{section.Name} Section address:{hex(section.VirtualAddress)} Section Size:{section.SizeOfRawData}\\n\"\n",
    "\n",
    "    ddl_text = \"DDL:\\n\"\n",
    "    for entry in pe.DIRECTORY_ENTRY_IMPORT:\n",
    "        ddl_text += f\"{entry.dll}\\napi:\"\n",
    "        for function in entry.imports:\n",
    "            ddl_text += f\"{function.name}\\n\"\n",
    "    times_stamp = f\"Timestamp: {pe.FILE_HEADER.dump_dict()['TimeDateStamp']['Value'].split('[')[1][:-1]}\"\n",
    "    description.append(sections_text+ddl_text+times_stamp)"
   ]
  },
  {
   "cell_type": "code",
   "execution_count": 30,
   "metadata": {},
   "outputs": [],
   "source": [
    "df = pd.DataFrame(data={\"names\": name, \"descriptions\": description})\n",
    "df.to_csv('malware.csv')"
   ]
  },
  {
   "cell_type": "code",
   "execution_count": 31,
   "metadata": {},
   "outputs": [
    {
     "data": {
      "text/html": [
       "<div>\n",
       "<style scoped>\n",
       "    .dataframe tbody tr th:only-of-type {\n",
       "        vertical-align: middle;\n",
       "    }\n",
       "\n",
       "    .dataframe tbody tr th {\n",
       "        vertical-align: top;\n",
       "    }\n",
       "\n",
       "    .dataframe thead th {\n",
       "        text-align: right;\n",
       "    }\n",
       "</style>\n",
       "<table border=\"1\" class=\"dataframe\">\n",
       "  <thead>\n",
       "    <tr style=\"text-align: right;\">\n",
       "      <th></th>\n",
       "      <th>names</th>\n",
       "      <th>descriptions</th>\n",
       "    </tr>\n",
       "  </thead>\n",
       "  <tbody>\n",
       "    <tr>\n",
       "      <th>0</th>\n",
       "      <td>785003A405BC7A4EBCBB21DDB757BF3F</td>\n",
       "      <td>Sections:\\nb'UPX0\\x00\\x00\\x00\\x00' Section add...</td>\n",
       "    </tr>\n",
       "    <tr>\n",
       "      <th>1</th>\n",
       "      <td>GBV66_8F259BB36E00D124963CFA9B86F502E</td>\n",
       "      <td>Sections:\\nb'.text\\x00\\x00\\x00' Section addres...</td>\n",
       "    </tr>\n",
       "    <tr>\n",
       "      <th>2</th>\n",
       "      <td>1F2EB7B090018D975E6D9B40868C94CA</td>\n",
       "      <td>Sections:\\nb'UPX0\\x00\\x00\\x00\\x00' Section add...</td>\n",
       "    </tr>\n",
       "    <tr>\n",
       "      <th>3</th>\n",
       "      <td>HJGQDD892986B2249B5214639ECC8AC0223</td>\n",
       "      <td>Sections:\\nb'UPX0\\x00\\x00\\x00\\x00' Section add...</td>\n",
       "    </tr>\n",
       "    <tr>\n",
       "      <th>4</th>\n",
       "      <td>33DE5067A433A6EC5C328067DC18EC37</td>\n",
       "      <td>Sections:\\nb'UPX0\\x00\\x00\\x00\\x00' Section add...</td>\n",
       "    </tr>\n",
       "  </tbody>\n",
       "</table>\n",
       "</div>"
      ],
      "text/plain": [
       "                                   names  \\\n",
       "0       785003A405BC7A4EBCBB21DDB757BF3F   \n",
       "1  GBV66_8F259BB36E00D124963CFA9B86F502E   \n",
       "2       1F2EB7B090018D975E6D9B40868C94CA   \n",
       "3    HJGQDD892986B2249B5214639ECC8AC0223   \n",
       "4       33DE5067A433A6EC5C328067DC18EC37   \n",
       "\n",
       "                                        descriptions  \n",
       "0  Sections:\\nb'UPX0\\x00\\x00\\x00\\x00' Section add...  \n",
       "1  Sections:\\nb'.text\\x00\\x00\\x00' Section addres...  \n",
       "2  Sections:\\nb'UPX0\\x00\\x00\\x00\\x00' Section add...  \n",
       "3  Sections:\\nb'UPX0\\x00\\x00\\x00\\x00' Section add...  \n",
       "4  Sections:\\nb'UPX0\\x00\\x00\\x00\\x00' Section add...  "
      ]
     },
     "execution_count": 31,
     "metadata": {},
     "output_type": "execute_result"
    }
   ],
   "source": [
    "df.head()"
   ]
  },
  {
   "cell_type": "code",
   "execution_count": 35,
   "metadata": {},
   "outputs": [
    {
     "data": {
      "text/html": [
       "<div>\n",
       "<style scoped>\n",
       "    .dataframe tbody tr th:only-of-type {\n",
       "        vertical-align: middle;\n",
       "    }\n",
       "\n",
       "    .dataframe tbody tr th {\n",
       "        vertical-align: top;\n",
       "    }\n",
       "\n",
       "    .dataframe thead th {\n",
       "        text-align: right;\n",
       "    }\n",
       "</style>\n",
       "<table border=\"1\" class=\"dataframe\">\n",
       "  <thead>\n",
       "    <tr style=\"text-align: right;\">\n",
       "      <th></th>\n",
       "      <th>names</th>\n",
       "      <th>descriptions</th>\n",
       "    </tr>\n",
       "  </thead>\n",
       "  <tbody>\n",
       "    <tr>\n",
       "      <th>count</th>\n",
       "      <td>95</td>\n",
       "      <td>95</td>\n",
       "    </tr>\n",
       "    <tr>\n",
       "      <th>unique</th>\n",
       "      <td>48</td>\n",
       "      <td>15</td>\n",
       "    </tr>\n",
       "    <tr>\n",
       "      <th>top</th>\n",
       "      <td>GFT4_7DDD3D72EAD03C7518F5D47650C8572</td>\n",
       "      <td>Sections:\\nb'UPX0\\x00\\x00\\x00\\x00' Section add...</td>\n",
       "    </tr>\n",
       "    <tr>\n",
       "      <th>freq</th>\n",
       "      <td>6</td>\n",
       "      <td>27</td>\n",
       "    </tr>\n",
       "  </tbody>\n",
       "</table>\n",
       "</div>"
      ],
      "text/plain": [
       "                                       names  \\\n",
       "count                                     95   \n",
       "unique                                    48   \n",
       "top     GFT4_7DDD3D72EAD03C7518F5D47650C8572   \n",
       "freq                                       6   \n",
       "\n",
       "                                             descriptions  \n",
       "count                                                  95  \n",
       "unique                                                 15  \n",
       "top     Sections:\\nb'UPX0\\x00\\x00\\x00\\x00' Section add...  \n",
       "freq                                                   27  "
      ]
     },
     "execution_count": 35,
     "metadata": {},
     "output_type": "execute_result"
    }
   ],
   "source": [
    "df.describe()"
   ]
  },
  {
   "cell_type": "code",
   "execution_count": 33,
   "metadata": {},
   "outputs": [],
   "source": [
    "vec = CountVectorizer(min_df=0.35, max_df=1.0, ngram_range=(1,1))\n",
    "vectorization_matrix = vec.fit_transform(df[\"descriptions\"])"
   ]
  },
  {
   "cell_type": "code",
   "execution_count": 58,
   "metadata": {},
   "outputs": [
    {
     "data": {
      "text/html": [
       "<div>\n",
       "<style scoped>\n",
       "    .dataframe tbody tr th:only-of-type {\n",
       "        vertical-align: middle;\n",
       "    }\n",
       "\n",
       "    .dataframe tbody tr th {\n",
       "        vertical-align: top;\n",
       "    }\n",
       "\n",
       "    .dataframe thead th {\n",
       "        text-align: right;\n",
       "    }\n",
       "</style>\n",
       "<table border=\"1\" class=\"dataframe\">\n",
       "  <thead>\n",
       "    <tr style=\"text-align: right;\">\n",
       "      <th></th>\n",
       "      <th>0x1000</th>\n",
       "      <th>0x6000</th>\n",
       "      <th>0x7000</th>\n",
       "      <th>17</th>\n",
       "      <th>4096</th>\n",
       "      <th>512</th>\n",
       "      <th>address</th>\n",
       "      <th>api</th>\n",
       "      <th>atol</th>\n",
       "      <th>closesocket</th>\n",
       "      <th>...</th>\n",
       "      <th>shell32</th>\n",
       "      <th>size</th>\n",
       "      <th>timestamp</th>\n",
       "      <th>upx0</th>\n",
       "      <th>upx1</th>\n",
       "      <th>user32</th>\n",
       "      <th>utc</th>\n",
       "      <th>virtualprotect</th>\n",
       "      <th>ws2_32</th>\n",
       "      <th>x00</th>\n",
       "    </tr>\n",
       "  </thead>\n",
       "  <tbody>\n",
       "    <tr>\n",
       "      <th>0</th>\n",
       "      <td>1</td>\n",
       "      <td>1</td>\n",
       "      <td>1</td>\n",
       "      <td>1</td>\n",
       "      <td>1</td>\n",
       "      <td>1</td>\n",
       "      <td>3</td>\n",
       "      <td>5</td>\n",
       "      <td>1</td>\n",
       "      <td>1</td>\n",
       "      <td>...</td>\n",
       "      <td>1</td>\n",
       "      <td>3</td>\n",
       "      <td>1</td>\n",
       "      <td>1</td>\n",
       "      <td>1</td>\n",
       "      <td>1</td>\n",
       "      <td>1</td>\n",
       "      <td>1</td>\n",
       "      <td>1</td>\n",
       "      <td>11</td>\n",
       "    </tr>\n",
       "    <tr>\n",
       "      <th>1</th>\n",
       "      <td>1</td>\n",
       "      <td>0</td>\n",
       "      <td>0</td>\n",
       "      <td>0</td>\n",
       "      <td>0</td>\n",
       "      <td>0</td>\n",
       "      <td>3</td>\n",
       "      <td>7</td>\n",
       "      <td>1</td>\n",
       "      <td>0</td>\n",
       "      <td>...</td>\n",
       "      <td>1</td>\n",
       "      <td>3</td>\n",
       "      <td>1</td>\n",
       "      <td>0</td>\n",
       "      <td>0</td>\n",
       "      <td>1</td>\n",
       "      <td>1</td>\n",
       "      <td>0</td>\n",
       "      <td>1</td>\n",
       "      <td>8</td>\n",
       "    </tr>\n",
       "    <tr>\n",
       "      <th>2</th>\n",
       "      <td>1</td>\n",
       "      <td>1</td>\n",
       "      <td>1</td>\n",
       "      <td>1</td>\n",
       "      <td>0</td>\n",
       "      <td>1</td>\n",
       "      <td>3</td>\n",
       "      <td>4</td>\n",
       "      <td>1</td>\n",
       "      <td>0</td>\n",
       "      <td>...</td>\n",
       "      <td>0</td>\n",
       "      <td>3</td>\n",
       "      <td>1</td>\n",
       "      <td>1</td>\n",
       "      <td>1</td>\n",
       "      <td>1</td>\n",
       "      <td>1</td>\n",
       "      <td>1</td>\n",
       "      <td>1</td>\n",
       "      <td>11</td>\n",
       "    </tr>\n",
       "    <tr>\n",
       "      <th>3</th>\n",
       "      <td>1</td>\n",
       "      <td>1</td>\n",
       "      <td>1</td>\n",
       "      <td>1</td>\n",
       "      <td>1</td>\n",
       "      <td>1</td>\n",
       "      <td>3</td>\n",
       "      <td>5</td>\n",
       "      <td>1</td>\n",
       "      <td>1</td>\n",
       "      <td>...</td>\n",
       "      <td>1</td>\n",
       "      <td>3</td>\n",
       "      <td>1</td>\n",
       "      <td>1</td>\n",
       "      <td>1</td>\n",
       "      <td>1</td>\n",
       "      <td>1</td>\n",
       "      <td>1</td>\n",
       "      <td>1</td>\n",
       "      <td>11</td>\n",
       "    </tr>\n",
       "    <tr>\n",
       "      <th>4</th>\n",
       "      <td>1</td>\n",
       "      <td>1</td>\n",
       "      <td>1</td>\n",
       "      <td>0</td>\n",
       "      <td>1</td>\n",
       "      <td>1</td>\n",
       "      <td>3</td>\n",
       "      <td>5</td>\n",
       "      <td>1</td>\n",
       "      <td>1</td>\n",
       "      <td>...</td>\n",
       "      <td>1</td>\n",
       "      <td>3</td>\n",
       "      <td>1</td>\n",
       "      <td>1</td>\n",
       "      <td>1</td>\n",
       "      <td>1</td>\n",
       "      <td>1</td>\n",
       "      <td>1</td>\n",
       "      <td>1</td>\n",
       "      <td>11</td>\n",
       "    </tr>\n",
       "    <tr>\n",
       "      <th>...</th>\n",
       "      <td>...</td>\n",
       "      <td>...</td>\n",
       "      <td>...</td>\n",
       "      <td>...</td>\n",
       "      <td>...</td>\n",
       "      <td>...</td>\n",
       "      <td>...</td>\n",
       "      <td>...</td>\n",
       "      <td>...</td>\n",
       "      <td>...</td>\n",
       "      <td>...</td>\n",
       "      <td>...</td>\n",
       "      <td>...</td>\n",
       "      <td>...</td>\n",
       "      <td>...</td>\n",
       "      <td>...</td>\n",
       "      <td>...</td>\n",
       "      <td>...</td>\n",
       "      <td>...</td>\n",
       "      <td>...</td>\n",
       "      <td>...</td>\n",
       "    </tr>\n",
       "    <tr>\n",
       "      <th>90</th>\n",
       "      <td>1</td>\n",
       "      <td>0</td>\n",
       "      <td>0</td>\n",
       "      <td>0</td>\n",
       "      <td>0</td>\n",
       "      <td>0</td>\n",
       "      <td>3</td>\n",
       "      <td>9</td>\n",
       "      <td>0</td>\n",
       "      <td>0</td>\n",
       "      <td>...</td>\n",
       "      <td>0</td>\n",
       "      <td>3</td>\n",
       "      <td>1</td>\n",
       "      <td>1</td>\n",
       "      <td>1</td>\n",
       "      <td>1</td>\n",
       "      <td>1</td>\n",
       "      <td>1</td>\n",
       "      <td>1</td>\n",
       "      <td>12</td>\n",
       "    </tr>\n",
       "    <tr>\n",
       "      <th>91</th>\n",
       "      <td>1</td>\n",
       "      <td>0</td>\n",
       "      <td>0</td>\n",
       "      <td>0</td>\n",
       "      <td>0</td>\n",
       "      <td>0</td>\n",
       "      <td>3</td>\n",
       "      <td>8</td>\n",
       "      <td>0</td>\n",
       "      <td>0</td>\n",
       "      <td>...</td>\n",
       "      <td>0</td>\n",
       "      <td>3</td>\n",
       "      <td>1</td>\n",
       "      <td>1</td>\n",
       "      <td>1</td>\n",
       "      <td>1</td>\n",
       "      <td>1</td>\n",
       "      <td>1</td>\n",
       "      <td>1</td>\n",
       "      <td>11</td>\n",
       "    </tr>\n",
       "    <tr>\n",
       "      <th>92</th>\n",
       "      <td>1</td>\n",
       "      <td>1</td>\n",
       "      <td>1</td>\n",
       "      <td>1</td>\n",
       "      <td>1</td>\n",
       "      <td>1</td>\n",
       "      <td>3</td>\n",
       "      <td>5</td>\n",
       "      <td>1</td>\n",
       "      <td>1</td>\n",
       "      <td>...</td>\n",
       "      <td>1</td>\n",
       "      <td>3</td>\n",
       "      <td>1</td>\n",
       "      <td>1</td>\n",
       "      <td>1</td>\n",
       "      <td>1</td>\n",
       "      <td>1</td>\n",
       "      <td>1</td>\n",
       "      <td>1</td>\n",
       "      <td>11</td>\n",
       "    </tr>\n",
       "    <tr>\n",
       "      <th>93</th>\n",
       "      <td>1</td>\n",
       "      <td>1</td>\n",
       "      <td>1</td>\n",
       "      <td>1</td>\n",
       "      <td>1</td>\n",
       "      <td>1</td>\n",
       "      <td>3</td>\n",
       "      <td>5</td>\n",
       "      <td>1</td>\n",
       "      <td>1</td>\n",
       "      <td>...</td>\n",
       "      <td>1</td>\n",
       "      <td>3</td>\n",
       "      <td>1</td>\n",
       "      <td>1</td>\n",
       "      <td>1</td>\n",
       "      <td>1</td>\n",
       "      <td>1</td>\n",
       "      <td>1</td>\n",
       "      <td>1</td>\n",
       "      <td>11</td>\n",
       "    </tr>\n",
       "    <tr>\n",
       "      <th>94</th>\n",
       "      <td>1</td>\n",
       "      <td>0</td>\n",
       "      <td>0</td>\n",
       "      <td>0</td>\n",
       "      <td>0</td>\n",
       "      <td>0</td>\n",
       "      <td>3</td>\n",
       "      <td>7</td>\n",
       "      <td>1</td>\n",
       "      <td>0</td>\n",
       "      <td>...</td>\n",
       "      <td>1</td>\n",
       "      <td>3</td>\n",
       "      <td>1</td>\n",
       "      <td>0</td>\n",
       "      <td>0</td>\n",
       "      <td>1</td>\n",
       "      <td>1</td>\n",
       "      <td>0</td>\n",
       "      <td>1</td>\n",
       "      <td>8</td>\n",
       "    </tr>\n",
       "  </tbody>\n",
       "</table>\n",
       "<p>95 rows × 32 columns</p>\n",
       "</div>"
      ],
      "text/plain": [
       "    0x1000  0x6000  0x7000  17  4096  512  address  api  atol  closesocket  \\\n",
       "0        1       1       1   1     1    1        3    5     1            1   \n",
       "1        1       0       0   0     0    0        3    7     1            0   \n",
       "2        1       1       1   1     0    1        3    4     1            0   \n",
       "3        1       1       1   1     1    1        3    5     1            1   \n",
       "4        1       1       1   0     1    1        3    5     1            1   \n",
       "..     ...     ...     ...  ..   ...  ...      ...  ...   ...          ...   \n",
       "90       1       0       0   0     0    0        3    9     0            0   \n",
       "91       1       0       0   0     0    0        3    8     0            0   \n",
       "92       1       1       1   1     1    1        3    5     1            1   \n",
       "93       1       1       1   1     1    1        3    5     1            1   \n",
       "94       1       0       0   0     0    0        3    7     1            0   \n",
       "\n",
       "    ...  shell32  size  timestamp  upx0  upx1  user32  utc  virtualprotect  \\\n",
       "0   ...        1     3          1     1     1       1    1               1   \n",
       "1   ...        1     3          1     0     0       1    1               0   \n",
       "2   ...        0     3          1     1     1       1    1               1   \n",
       "3   ...        1     3          1     1     1       1    1               1   \n",
       "4   ...        1     3          1     1     1       1    1               1   \n",
       "..  ...      ...   ...        ...   ...   ...     ...  ...             ...   \n",
       "90  ...        0     3          1     1     1       1    1               1   \n",
       "91  ...        0     3          1     1     1       1    1               1   \n",
       "92  ...        1     3          1     1     1       1    1               1   \n",
       "93  ...        1     3          1     1     1       1    1               1   \n",
       "94  ...        1     3          1     0     0       1    1               0   \n",
       "\n",
       "    ws2_32  x00  \n",
       "0        1   11  \n",
       "1        1    8  \n",
       "2        1   11  \n",
       "3        1   11  \n",
       "4        1   11  \n",
       "..     ...  ...  \n",
       "90       1   12  \n",
       "91       1   11  \n",
       "92       1   11  \n",
       "93       1   11  \n",
       "94       1    8  \n",
       "\n",
       "[95 rows x 32 columns]"
      ]
     },
     "execution_count": 58,
     "metadata": {},
     "output_type": "execute_result"
    }
   ],
   "source": [
    "# Palabras únicas del corpus\n",
    "vocabulary = vec.get_feature_names_out()\n",
    "\n",
    "# Mostrar el vector\n",
    "df2 = pd.DataFrame(vectorization_matrix.toarray(), columns=vocabulary)\n",
    "df2"
   ]
  },
  {
   "cell_type": "code",
   "execution_count": 37,
   "metadata": {},
   "outputs": [
    {
     "name": "stderr",
     "output_type": "stream",
     "text": [
      "/home/gabriel/.local/lib/python3.10/site-packages/sklearn/cluster/_kmeans.py:870: FutureWarning: The default value of `n_init` will change from 10 to 'auto' in 1.4. Set the value of `n_init` explicitly to suppress the warning\n",
      "  warnings.warn(\n",
      "/tmp/ipykernel_6564/3136149733.py:5: ConvergenceWarning: Number of distinct clusters (10) found smaller than n_clusters (11). Possibly due to duplicate points in X.\n",
      "  kmeanModel.fit(vectorization_matrix)\n",
      "/tmp/ipykernel_6564/3136149733.py:5: ConvergenceWarning: Number of distinct clusters (10) found smaller than n_clusters (12). Possibly due to duplicate points in X.\n",
      "  kmeanModel.fit(vectorization_matrix)\n",
      "/tmp/ipykernel_6564/3136149733.py:5: ConvergenceWarning: Number of distinct clusters (10) found smaller than n_clusters (13). Possibly due to duplicate points in X.\n",
      "  kmeanModel.fit(vectorization_matrix)\n"
     ]
    },
    {
     "data": {
      "image/png": "[encoded data removed]",
      "text/plain": [
       "<Figure size 1600x800 with 1 Axes>"
      ]
     },
     "metadata": {},
     "output_type": "display_data"
    }
   ],
   "source": [
    "distortions = []\n",
    "K = range(2,14)\n",
    "for k in K:\n",
    "    kmeanModel = KMeans(n_clusters=k, random_state=42)\n",
    "    kmeanModel.fit(vectorization_matrix)\n",
    "    distortions.append(kmeanModel.inertia_)\n",
    "plt.figure(figsize=(16,8))\n",
    "plt.plot(K, distortions, \"bx-\")\n",
    "plt.xlabel(\"k\")\n",
    "plt.ylabel(\"Distortion\")\n",
    "plt.title(\"Gráfica de codo\")\n",
    "plt.show()"
   ]
  },
  {
   "cell_type": "code",
   "execution_count": 55,
   "metadata": {},
   "outputs": [
    {
     "name": "stderr",
     "output_type": "stream",
     "text": [
      "/home/gabriel/.local/lib/python3.10/site-packages/sklearn/cluster/_kmeans.py:870: FutureWarning: The default value of `n_init` will change from 10 to 'auto' in 1.4. Set the value of `n_init` explicitly to suppress the warning\n",
      "  warnings.warn(\n"
     ]
    },
    {
     "data": {
      "text/html": [
       "<div>\n",
       "<style scoped>\n",
       "    .dataframe tbody tr th:only-of-type {\n",
       "        vertical-align: middle;\n",
       "    }\n",
       "\n",
       "    .dataframe tbody tr th {\n",
       "        vertical-align: top;\n",
       "    }\n",
       "\n",
       "    .dataframe thead th {\n",
       "        text-align: right;\n",
       "    }\n",
       "</style>\n",
       "<table border=\"1\" class=\"dataframe\">\n",
       "  <thead>\n",
       "    <tr style=\"text-align: right;\">\n",
       "      <th></th>\n",
       "      <th>counts</th>\n",
       "    </tr>\n",
       "    <tr>\n",
       "      <th>Cluster</th>\n",
       "      <th></th>\n",
       "    </tr>\n",
       "  </thead>\n",
       "  <tbody>\n",
       "    <tr>\n",
       "      <th>1</th>\n",
       "      <td>27</td>\n",
       "    </tr>\n",
       "    <tr>\n",
       "      <th>4</th>\n",
       "      <td>21</td>\n",
       "    </tr>\n",
       "    <tr>\n",
       "      <th>2</th>\n",
       "      <td>17</td>\n",
       "    </tr>\n",
       "    <tr>\n",
       "      <th>6</th>\n",
       "      <td>13</td>\n",
       "    </tr>\n",
       "    <tr>\n",
       "      <th>0</th>\n",
       "      <td>6</td>\n",
       "    </tr>\n",
       "    <tr>\n",
       "      <th>5</th>\n",
       "      <td>3</td>\n",
       "    </tr>\n",
       "    <tr>\n",
       "      <th>3</th>\n",
       "      <td>3</td>\n",
       "    </tr>\n",
       "    <tr>\n",
       "      <th>7</th>\n",
       "      <td>2</td>\n",
       "    </tr>\n",
       "    <tr>\n",
       "      <th>8</th>\n",
       "      <td>2</td>\n",
       "    </tr>\n",
       "    <tr>\n",
       "      <th>9</th>\n",
       "      <td>1</td>\n",
       "    </tr>\n",
       "  </tbody>\n",
       "</table>\n",
       "</div>"
      ],
      "text/plain": [
       "         counts\n",
       "Cluster        \n",
       "1            27\n",
       "4            21\n",
       "2            17\n",
       "6            13\n",
       "0             6\n",
       "5             3\n",
       "3             3\n",
       "7             2\n",
       "8             2\n",
       "9             1"
      ]
     },
     "execution_count": 55,
     "metadata": {},
     "output_type": "execute_result"
    }
   ],
   "source": [
    "km = KMeans(n_clusters=10, random_state=42).fit(vectorization_matrix)\n",
    "prediction = km.predict(vectorization_matrix)\n",
    "\n",
    "\n",
    "pd.value_counts(prediction).rename_axis('Cluster').to_frame('counts')"
   ]
  },
  {
   "cell_type": "code",
   "execution_count": 56,
   "metadata": {},
   "outputs": [],
   "source": [
    "prediction = pd.DataFrame(prediction, columns=[\"cluster\"])"
   ]
  },
  {
   "cell_type": "code",
   "execution_count": 57,
   "metadata": {},
   "outputs": [
    {
     "data": {
      "text/html": [
       "<div>\n",
       "<style scoped>\n",
       "    .dataframe tbody tr th:only-of-type {\n",
       "        vertical-align: middle;\n",
       "    }\n",
       "\n",
       "    .dataframe tbody tr th {\n",
       "        vertical-align: top;\n",
       "    }\n",
       "\n",
       "    .dataframe thead th {\n",
       "        text-align: right;\n",
       "    }\n",
       "</style>\n",
       "<table border=\"1\" class=\"dataframe\">\n",
       "  <thead>\n",
       "    <tr style=\"text-align: right;\">\n",
       "      <th></th>\n",
       "      <th>names</th>\n",
       "      <th>descriptions</th>\n",
       "      <th>cluster</th>\n",
       "    </tr>\n",
       "  </thead>\n",
       "  <tbody>\n",
       "    <tr>\n",
       "      <th>0</th>\n",
       "      <td>785003A405BC7A4EBCBB21DDB757BF3F</td>\n",
       "      <td>Sections:\\nb'UPX0\\x00\\x00\\x00\\x00' Section add...</td>\n",
       "      <td>1</td>\n",
       "    </tr>\n",
       "    <tr>\n",
       "      <th>1</th>\n",
       "      <td>GBV66_8F259BB36E00D124963CFA9B86F502E</td>\n",
       "      <td>Sections:\\nb'.text\\x00\\x00\\x00' Section addres...</td>\n",
       "      <td>2</td>\n",
       "    </tr>\n",
       "    <tr>\n",
       "      <th>2</th>\n",
       "      <td>1F2EB7B090018D975E6D9B40868C94CA</td>\n",
       "      <td>Sections:\\nb'UPX0\\x00\\x00\\x00\\x00' Section add...</td>\n",
       "      <td>4</td>\n",
       "    </tr>\n",
       "    <tr>\n",
       "      <th>3</th>\n",
       "      <td>HJGQDD892986B2249B5214639ECC8AC0223</td>\n",
       "      <td>Sections:\\nb'UPX0\\x00\\x00\\x00\\x00' Section add...</td>\n",
       "      <td>1</td>\n",
       "    </tr>\n",
       "    <tr>\n",
       "      <th>4</th>\n",
       "      <td>33DE5067A433A6EC5C328067DC18EC37</td>\n",
       "      <td>Sections:\\nb'UPX0\\x00\\x00\\x00\\x00' Section add...</td>\n",
       "      <td>6</td>\n",
       "    </tr>\n",
       "    <tr>\n",
       "      <th>...</th>\n",
       "      <td>...</td>\n",
       "      <td>...</td>\n",
       "      <td>...</td>\n",
       "    </tr>\n",
       "    <tr>\n",
       "      <th>90</th>\n",
       "      <td>TG78Z__727A6800991EEAD454E53E8AF164A99C_unpacked</td>\n",
       "      <td>Sections:\\nb'UPX0\\x00\\x00\\x00\\x00' Section add...</td>\n",
       "      <td>7</td>\n",
       "    </tr>\n",
       "    <tr>\n",
       "      <th>91</th>\n",
       "      <td>QW2_4C6BDDCCA2695D6202DF38708E14FC7E_unpacked</td>\n",
       "      <td>Sections:\\nb'UPX0\\x00\\x00\\x00\\x00' Section add...</td>\n",
       "      <td>8</td>\n",
       "    </tr>\n",
       "    <tr>\n",
       "      <th>92</th>\n",
       "      <td>650A6FCA433EE243391E4B4C11F09438_unpacked</td>\n",
       "      <td>Sections:\\nb'UPX0\\x00\\x00\\x00\\x00' Section add...</td>\n",
       "      <td>1</td>\n",
       "    </tr>\n",
       "    <tr>\n",
       "      <th>93</th>\n",
       "      <td>785003A405BC7A4EBCBB21DDB757BF3F_unpacked</td>\n",
       "      <td>Sections:\\nb'UPX0\\x00\\x00\\x00\\x00' Section add...</td>\n",
       "      <td>1</td>\n",
       "    </tr>\n",
       "    <tr>\n",
       "      <th>94</th>\n",
       "      <td>SAM_B659D71AE168E774FAAF38DB30F4A84</td>\n",
       "      <td>Sections:\\nb'.text\\x00\\x00\\x00' Section addres...</td>\n",
       "      <td>2</td>\n",
       "    </tr>\n",
       "  </tbody>\n",
       "</table>\n",
       "<p>95 rows × 3 columns</p>\n",
       "</div>"
      ],
      "text/plain": [
       "                                               names  \\\n",
       "0                   785003A405BC7A4EBCBB21DDB757BF3F   \n",
       "1              GBV66_8F259BB36E00D124963CFA9B86F502E   \n",
       "2                   1F2EB7B090018D975E6D9B40868C94CA   \n",
       "3                HJGQDD892986B2249B5214639ECC8AC0223   \n",
       "4                   33DE5067A433A6EC5C328067DC18EC37   \n",
       "..                                               ...   \n",
       "90  TG78Z__727A6800991EEAD454E53E8AF164A99C_unpacked   \n",
       "91     QW2_4C6BDDCCA2695D6202DF38708E14FC7E_unpacked   \n",
       "92         650A6FCA433EE243391E4B4C11F09438_unpacked   \n",
       "93         785003A405BC7A4EBCBB21DDB757BF3F_unpacked   \n",
       "94               SAM_B659D71AE168E774FAAF38DB30F4A84   \n",
       "\n",
       "                                         descriptions  cluster  \n",
       "0   Sections:\\nb'UPX0\\x00\\x00\\x00\\x00' Section add...        1  \n",
       "1   Sections:\\nb'.text\\x00\\x00\\x00' Section addres...        2  \n",
       "2   Sections:\\nb'UPX0\\x00\\x00\\x00\\x00' Section add...        4  \n",
       "3   Sections:\\nb'UPX0\\x00\\x00\\x00\\x00' Section add...        1  \n",
       "4   Sections:\\nb'UPX0\\x00\\x00\\x00\\x00' Section add...        6  \n",
       "..                                                ...      ...  \n",
       "90  Sections:\\nb'UPX0\\x00\\x00\\x00\\x00' Section add...        7  \n",
       "91  Sections:\\nb'UPX0\\x00\\x00\\x00\\x00' Section add...        8  \n",
       "92  Sections:\\nb'UPX0\\x00\\x00\\x00\\x00' Section add...        1  \n",
       "93  Sections:\\nb'UPX0\\x00\\x00\\x00\\x00' Section add...        1  \n",
       "94  Sections:\\nb'.text\\x00\\x00\\x00' Section addres...        2  \n",
       "\n",
       "[95 rows x 3 columns]"
      ]
     },
     "execution_count": 57,
     "metadata": {},
     "output_type": "execute_result"
    }
   ],
   "source": [
    "new_df = df.copy()\n",
    "new_df['cluster'] = prediction\n",
    "new_df"
   ]
  },
  {
   "cell_type": "code",
   "execution_count": 43,
   "metadata": {},
   "outputs": [
    {
     "name": "stderr",
     "output_type": "stream",
     "text": [
      "/home/gabriel/.local/lib/python3.10/site-packages/sklearn/cluster/_kmeans.py:870: FutureWarning: The default value of `n_init` will change from 10 to 'auto' in 1.4. Set the value of `n_init` explicitly to suppress the warning\n",
      "  warnings.warn(\n",
      "/home/gabriel/.local/lib/python3.10/site-packages/sklearn/cluster/_kmeans.py:870: FutureWarning: The default value of `n_init` will change from 10 to 'auto' in 1.4. Set the value of `n_init` explicitly to suppress the warning\n",
      "  warnings.warn(\n",
      "/home/gabriel/.local/lib/python3.10/site-packages/sklearn/cluster/_kmeans.py:870: FutureWarning: The default value of `n_init` will change from 10 to 'auto' in 1.4. Set the value of `n_init` explicitly to suppress the warning\n",
      "  warnings.warn(\n"
     ]
    },
    {
     "name": "stdout",
     "output_type": "stream",
     "text": [
      "Silhouetter Score para 2 clusters: 0.645\n",
      "Silhouetter Score para 3 clusters: 0.719\n",
      "Silhouetter Score para 4 clusters: 0.767\n",
      "Silhouetter Score para 5 clusters: 0.840\n"
     ]
    },
    {
     "name": "stderr",
     "output_type": "stream",
     "text": [
      "/home/gabriel/.local/lib/python3.10/site-packages/sklearn/cluster/_kmeans.py:870: FutureWarning: The default value of `n_init` will change from 10 to 'auto' in 1.4. Set the value of `n_init` explicitly to suppress the warning\n",
      "  warnings.warn(\n",
      "/home/gabriel/.local/lib/python3.10/site-packages/sklearn/cluster/_kmeans.py:870: FutureWarning: The default value of `n_init` will change from 10 to 'auto' in 1.4. Set the value of `n_init` explicitly to suppress the warning\n",
      "  warnings.warn(\n"
     ]
    },
    {
     "name": "stdout",
     "output_type": "stream",
     "text": [
      "Silhouetter Score para 6 clusters: 0.901\n"
     ]
    },
    {
     "name": "stderr",
     "output_type": "stream",
     "text": [
      "/home/gabriel/.local/lib/python3.10/site-packages/sklearn/cluster/_kmeans.py:870: FutureWarning: The default value of `n_init` will change from 10 to 'auto' in 1.4. Set the value of `n_init` explicitly to suppress the warning\n",
      "  warnings.warn(\n"
     ]
    },
    {
     "name": "stdout",
     "output_type": "stream",
     "text": [
      "Silhouetter Score para 7 clusters: 0.975\n"
     ]
    },
    {
     "name": "stderr",
     "output_type": "stream",
     "text": [
      "/home/gabriel/.local/lib/python3.10/site-packages/sklearn/cluster/_kmeans.py:870: FutureWarning: The default value of `n_init` will change from 10 to 'auto' in 1.4. Set the value of `n_init` explicitly to suppress the warning\n",
      "  warnings.warn(\n"
     ]
    },
    {
     "name": "stdout",
     "output_type": "stream",
     "text": [
      "Silhouetter Score para 8 clusters: 0.963\n"
     ]
    },
    {
     "name": "stderr",
     "output_type": "stream",
     "text": [
      "/home/gabriel/.local/lib/python3.10/site-packages/sklearn/cluster/_kmeans.py:870: FutureWarning: The default value of `n_init` will change from 10 to 'auto' in 1.4. Set the value of `n_init` explicitly to suppress the warning\n",
      "  warnings.warn(\n"
     ]
    },
    {
     "name": "stdout",
     "output_type": "stream",
     "text": [
      "Silhouetter Score para 9 clusters: 0.981\n"
     ]
    },
    {
     "name": "stderr",
     "output_type": "stream",
     "text": [
      "/home/gabriel/.local/lib/python3.10/site-packages/sklearn/cluster/_kmeans.py:870: FutureWarning: The default value of `n_init` will change from 10 to 'auto' in 1.4. Set the value of `n_init` explicitly to suppress the warning\n",
      "  warnings.warn(\n"
     ]
    },
    {
     "name": "stdout",
     "output_type": "stream",
     "text": [
      "Silhouetter Score para 10 clusters: 0.989\n"
     ]
    },
    {
     "name": "stderr",
     "output_type": "stream",
     "text": [
      "/home/gabriel/.local/lib/python3.10/site-packages/sklearn/cluster/_kmeans.py:870: FutureWarning: The default value of `n_init` will change from 10 to 'auto' in 1.4. Set the value of `n_init` explicitly to suppress the warning\n",
      "  warnings.warn(\n",
      "/home/gabriel/.local/lib/python3.10/site-packages/yellowbrick/cluster/silhouette.py:138: ConvergenceWarning: Number of distinct clusters (10) found smaller than n_clusters (11). Possibly due to duplicate points in X.\n",
      "  self.estimator.fit(X, y, **kwargs)\n",
      "/home/gabriel/.local/lib/python3.10/site-packages/sklearn/cluster/_kmeans.py:870: FutureWarning: The default value of `n_init` will change from 10 to 'auto' in 1.4. Set the value of `n_init` explicitly to suppress the warning\n",
      "  warnings.warn(\n"
     ]
    },
    {
     "name": "stdout",
     "output_type": "stream",
     "text": [
      "Silhouetter Score para 11 clusters: 0.989\n"
     ]
    },
    {
     "name": "stderr",
     "output_type": "stream",
     "text": [
      "/home/gabriel/.local/lib/python3.10/site-packages/yellowbrick/cluster/silhouette.py:138: ConvergenceWarning: Number of distinct clusters (10) found smaller than n_clusters (12). Possibly due to duplicate points in X.\n",
      "  self.estimator.fit(X, y, **kwargs)\n",
      "/home/gabriel/.local/lib/python3.10/site-packages/sklearn/cluster/_kmeans.py:870: FutureWarning: The default value of `n_init` will change from 10 to 'auto' in 1.4. Set the value of `n_init` explicitly to suppress the warning\n",
      "  warnings.warn(\n"
     ]
    },
    {
     "name": "stdout",
     "output_type": "stream",
     "text": [
      "Silhouetter Score para 12 clusters: 0.989\n"
     ]
    },
    {
     "name": "stderr",
     "output_type": "stream",
     "text": [
      "/home/gabriel/.local/lib/python3.10/site-packages/yellowbrick/cluster/silhouette.py:138: ConvergenceWarning: Number of distinct clusters (10) found smaller than n_clusters (13). Possibly due to duplicate points in X.\n",
      "  self.estimator.fit(X, y, **kwargs)\n"
     ]
    },
    {
     "name": "stdout",
     "output_type": "stream",
     "text": [
      "Silhouetter Score para 13 clusters: 0.989\n"
     ]
    },
    {
     "data": {
      "image/png": "[encoded data removed]",
      "text/plain": [
       "<Figure size 1900x2500 with 12 Axes>"
      ]
     },
     "metadata": {},
     "output_type": "display_data"
    }
   ],
   "source": [
    "\n",
    "fig, ax = plt.subplots(6, 2, figsize=(19,25))\n",
    "\n",
    "for i in range(2,14):\n",
    "    '''\n",
    "    Create KMeans instance for different number of clusters\n",
    "    '''\n",
    "    km = KMeans(n_clusters=i, random_state=42)\n",
    "    q, mod = divmod(i, 2)\n",
    "    '''\n",
    "    Create SilhouetteVisualizer instance with KMeans instance\n",
    "    Fit the visualizer\n",
    "    '''\n",
    "    visualizer = SilhouetteVisualizer(km, ax=ax[q-1][mod])\n",
    "    visualizer.fit(vectorization_matrix)\n",
    "\n",
    "    score = silhouette_score(vectorization_matrix, km.labels_)\n",
    "    #\n",
    "    # Print the score\n",
    "    #\n",
    "    print('Silhouetter Score para %s clusters: %.3f' % (str(i), score))"
   ]
  },
  {
   "cell_type": "code",
   "execution_count": 44,
   "metadata": {},
   "outputs": [
    {
     "name": "stderr",
     "output_type": "stream",
     "text": [
      "/home/gabriel/.local/lib/python3.10/site-packages/sklearn/cluster/_kmeans.py:870: FutureWarning: The default value of `n_init` will change from 10 to 'auto' in 1.4. Set the value of `n_init` explicitly to suppress the warning\n",
      "  warnings.warn(\n"
     ]
    },
    {
     "data": {
      "text/html": [
       "<div>\n",
       "<style scoped>\n",
       "    .dataframe tbody tr th:only-of-type {\n",
       "        vertical-align: middle;\n",
       "    }\n",
       "\n",
       "    .dataframe tbody tr th {\n",
       "        vertical-align: top;\n",
       "    }\n",
       "\n",
       "    .dataframe thead th {\n",
       "        text-align: right;\n",
       "    }\n",
       "</style>\n",
       "<table border=\"1\" class=\"dataframe\">\n",
       "  <thead>\n",
       "    <tr style=\"text-align: right;\">\n",
       "      <th></th>\n",
       "      <th>counts</th>\n",
       "    </tr>\n",
       "    <tr>\n",
       "      <th>Cluster</th>\n",
       "      <th></th>\n",
       "    </tr>\n",
       "  </thead>\n",
       "  <tbody>\n",
       "    <tr>\n",
       "      <th>1</th>\n",
       "      <td>27</td>\n",
       "    </tr>\n",
       "    <tr>\n",
       "      <th>4</th>\n",
       "      <td>21</td>\n",
       "    </tr>\n",
       "    <tr>\n",
       "      <th>2</th>\n",
       "      <td>17</td>\n",
       "    </tr>\n",
       "    <tr>\n",
       "      <th>6</th>\n",
       "      <td>13</td>\n",
       "    </tr>\n",
       "    <tr>\n",
       "      <th>0</th>\n",
       "      <td>6</td>\n",
       "    </tr>\n",
       "    <tr>\n",
       "      <th>5</th>\n",
       "      <td>3</td>\n",
       "    </tr>\n",
       "    <tr>\n",
       "      <th>3</th>\n",
       "      <td>3</td>\n",
       "    </tr>\n",
       "    <tr>\n",
       "      <th>7</th>\n",
       "      <td>2</td>\n",
       "    </tr>\n",
       "    <tr>\n",
       "      <th>8</th>\n",
       "      <td>2</td>\n",
       "    </tr>\n",
       "    <tr>\n",
       "      <th>9</th>\n",
       "      <td>1</td>\n",
       "    </tr>\n",
       "  </tbody>\n",
       "</table>\n",
       "</div>"
      ],
      "text/plain": [
       "         counts\n",
       "Cluster        \n",
       "1            27\n",
       "4            21\n",
       "2            17\n",
       "6            13\n",
       "0             6\n",
       "5             3\n",
       "3             3\n",
       "7             2\n",
       "8             2\n",
       "9             1"
      ]
     },
     "execution_count": 44,
     "metadata": {},
     "output_type": "execute_result"
    }
   ],
   "source": [
    "km = KMeans(n_clusters=10, random_state=42).fit(vectorization_matrix)\n",
    "prediction = km.predict(vectorization_matrix)\n",
    "\n",
    "\n",
    "pd.value_counts(prediction).rename_axis('Cluster').to_frame('counts')"
   ]
  },
  {
   "cell_type": "code",
   "execution_count": 45,
   "metadata": {},
   "outputs": [],
   "source": [
    "prediction = pd.DataFrame(prediction, columns=[\"cluster\"])"
   ]
  },
  {
   "cell_type": "code",
   "execution_count": 46,
   "metadata": {},
   "outputs": [
    {
     "data": {
      "text/html": [
       "<div>\n",
       "<style scoped>\n",
       "    .dataframe tbody tr th:only-of-type {\n",
       "        vertical-align: middle;\n",
       "    }\n",
       "\n",
       "    .dataframe tbody tr th {\n",
       "        vertical-align: top;\n",
       "    }\n",
       "\n",
       "    .dataframe thead th {\n",
       "        text-align: right;\n",
       "    }\n",
       "</style>\n",
       "<table border=\"1\" class=\"dataframe\">\n",
       "  <thead>\n",
       "    <tr style=\"text-align: right;\">\n",
       "      <th></th>\n",
       "      <th>names</th>\n",
       "      <th>descriptions</th>\n",
       "      <th>cluster</th>\n",
       "    </tr>\n",
       "  </thead>\n",
       "  <tbody>\n",
       "    <tr>\n",
       "      <th>0</th>\n",
       "      <td>785003A405BC7A4EBCBB21DDB757BF3F</td>\n",
       "      <td>Sections:\\nb'UPX0\\x00\\x00\\x00\\x00' Section add...</td>\n",
       "      <td>1</td>\n",
       "    </tr>\n",
       "    <tr>\n",
       "      <th>1</th>\n",
       "      <td>GBV66_8F259BB36E00D124963CFA9B86F502E</td>\n",
       "      <td>Sections:\\nb'.text\\x00\\x00\\x00' Section addres...</td>\n",
       "      <td>2</td>\n",
       "    </tr>\n",
       "    <tr>\n",
       "      <th>2</th>\n",
       "      <td>1F2EB7B090018D975E6D9B40868C94CA</td>\n",
       "      <td>Sections:\\nb'UPX0\\x00\\x00\\x00\\x00' Section add...</td>\n",
       "      <td>4</td>\n",
       "    </tr>\n",
       "    <tr>\n",
       "      <th>3</th>\n",
       "      <td>HJGQDD892986B2249B5214639ECC8AC0223</td>\n",
       "      <td>Sections:\\nb'UPX0\\x00\\x00\\x00\\x00' Section add...</td>\n",
       "      <td>1</td>\n",
       "    </tr>\n",
       "    <tr>\n",
       "      <th>4</th>\n",
       "      <td>33DE5067A433A6EC5C328067DC18EC37</td>\n",
       "      <td>Sections:\\nb'UPX0\\x00\\x00\\x00\\x00' Section add...</td>\n",
       "      <td>6</td>\n",
       "    </tr>\n",
       "    <tr>\n",
       "      <th>...</th>\n",
       "      <td>...</td>\n",
       "      <td>...</td>\n",
       "      <td>...</td>\n",
       "    </tr>\n",
       "    <tr>\n",
       "      <th>90</th>\n",
       "      <td>TG78Z__727A6800991EEAD454E53E8AF164A99C_unpacked</td>\n",
       "      <td>Sections:\\nb'UPX0\\x00\\x00\\x00\\x00' Section add...</td>\n",
       "      <td>7</td>\n",
       "    </tr>\n",
       "    <tr>\n",
       "      <th>91</th>\n",
       "      <td>QW2_4C6BDDCCA2695D6202DF38708E14FC7E_unpacked</td>\n",
       "      <td>Sections:\\nb'UPX0\\x00\\x00\\x00\\x00' Section add...</td>\n",
       "      <td>8</td>\n",
       "    </tr>\n",
       "    <tr>\n",
       "      <th>92</th>\n",
       "      <td>650A6FCA433EE243391E4B4C11F09438_unpacked</td>\n",
       "      <td>Sections:\\nb'UPX0\\x00\\x00\\x00\\x00' Section add...</td>\n",
       "      <td>1</td>\n",
       "    </tr>\n",
       "    <tr>\n",
       "      <th>93</th>\n",
       "      <td>785003A405BC7A4EBCBB21DDB757BF3F_unpacked</td>\n",
       "      <td>Sections:\\nb'UPX0\\x00\\x00\\x00\\x00' Section add...</td>\n",
       "      <td>1</td>\n",
       "    </tr>\n",
       "    <tr>\n",
       "      <th>94</th>\n",
       "      <td>SAM_B659D71AE168E774FAAF38DB30F4A84</td>\n",
       "      <td>Sections:\\nb'.text\\x00\\x00\\x00' Section addres...</td>\n",
       "      <td>2</td>\n",
       "    </tr>\n",
       "  </tbody>\n",
       "</table>\n",
       "<p>95 rows × 3 columns</p>\n",
       "</div>"
      ],
      "text/plain": [
       "                                               names  \\\n",
       "0                   785003A405BC7A4EBCBB21DDB757BF3F   \n",
       "1              GBV66_8F259BB36E00D124963CFA9B86F502E   \n",
       "2                   1F2EB7B090018D975E6D9B40868C94CA   \n",
       "3                HJGQDD892986B2249B5214639ECC8AC0223   \n",
       "4                   33DE5067A433A6EC5C328067DC18EC37   \n",
       "..                                               ...   \n",
       "90  TG78Z__727A6800991EEAD454E53E8AF164A99C_unpacked   \n",
       "91     QW2_4C6BDDCCA2695D6202DF38708E14FC7E_unpacked   \n",
       "92         650A6FCA433EE243391E4B4C11F09438_unpacked   \n",
       "93         785003A405BC7A4EBCBB21DDB757BF3F_unpacked   \n",
       "94               SAM_B659D71AE168E774FAAF38DB30F4A84   \n",
       "\n",
       "                                         descriptions  cluster  \n",
       "0   Sections:\\nb'UPX0\\x00\\x00\\x00\\x00' Section add...        1  \n",
       "1   Sections:\\nb'.text\\x00\\x00\\x00' Section addres...        2  \n",
       "2   Sections:\\nb'UPX0\\x00\\x00\\x00\\x00' Section add...        4  \n",
       "3   Sections:\\nb'UPX0\\x00\\x00\\x00\\x00' Section add...        1  \n",
       "4   Sections:\\nb'UPX0\\x00\\x00\\x00\\x00' Section add...        6  \n",
       "..                                                ...      ...  \n",
       "90  Sections:\\nb'UPX0\\x00\\x00\\x00\\x00' Section add...        7  \n",
       "91  Sections:\\nb'UPX0\\x00\\x00\\x00\\x00' Section add...        8  \n",
       "92  Sections:\\nb'UPX0\\x00\\x00\\x00\\x00' Section add...        1  \n",
       "93  Sections:\\nb'UPX0\\x00\\x00\\x00\\x00' Section add...        1  \n",
       "94  Sections:\\nb'.text\\x00\\x00\\x00' Section addres...        2  \n",
       "\n",
       "[95 rows x 3 columns]"
      ]
     },
     "execution_count": 46,
     "metadata": {},
     "output_type": "execute_result"
    }
   ],
   "source": [
    "new_df = df.copy()\n",
    "new_df['cluster'] = prediction\n",
    "\n",
    "new_df"
   ]
  },
  {
   "attachments": {},
   "cell_type": "markdown",
   "metadata": {},
   "source": [
    "## Indice de Jaccard"
   ]
  },
  {
   "cell_type": "code",
   "execution_count": 129,
   "metadata": {},
   "outputs": [],
   "source": [
    "from sklearn.multioutput import ClassifierChain\n",
    "from sklearn.model_selection import train_test_split\n",
    "from sklearn.multiclass import OneVsRestClassifier\n",
    "from sklearn.metrics import jaccard_score\n",
    "from sklearn.linear_model import LogisticRegression\n",
    "import tensorflow as tf\n"
   ]
  },
  {
   "cell_type": "code",
   "execution_count": 123,
   "metadata": {},
   "outputs": [],
   "source": [
    "y = df['descriptions']\n",
    "x= df2"
   ]
  },
  {
   "cell_type": "code",
   "execution_count": 124,
   "metadata": {},
   "outputs": [],
   "source": [
    "X_train, X_test, Y_train, Y_test = train_test_split(x, y, test_size=.2,\n",
    "                                                    random_state=0)\n"
   ]
  },
  {
   "cell_type": "code",
   "execution_count": 132,
   "metadata": {},
   "outputs": [
    {
     "name": "stderr",
     "output_type": "stream",
     "text": [
      "/home/gabriel/.local/lib/python3.10/site-packages/sklearn/linear_model/_logistic.py:458: ConvergenceWarning: lbfgs failed to converge (status=1):\n",
      "STOP: TOTAL NO. of ITERATIONS REACHED LIMIT.\n",
      "\n",
      "Increase the number of iterations (max_iter) or scale the data as shown in:\n",
      "    https://scikit-learn.org/stable/modules/preprocessing.html\n",
      "Please also refer to the documentation for alternative solver options:\n",
      "    https://scikit-learn.org/stable/modules/linear_model.html#logistic-regression\n",
      "  n_iter_i = _check_optimize_result(\n"
     ]
    }
   ],
   "source": [
    "base_lr = LogisticRegression()\n",
    "ovr = OneVsRestClassifier(base_lr)\n",
    "ovr.fit(X_train, Y_train)\n",
    "Y_pred_ovr = ovr.predict(X_test)\n",
    "ovr_jaccard_score = jaccard_score(Y_test, Y_pred_ovr, average=None)"
   ]
  },
  {
   "cell_type": "code",
   "execution_count": 133,
   "metadata": {},
   "outputs": [
    {
     "data": {
      "text/plain": [
       "array([0. , 0.5, 1. , 1. , 1. , 1. , 0. , 0. ])"
      ]
     },
     "execution_count": 133,
     "metadata": {},
     "output_type": "execute_result"
    }
   ],
   "source": [
    "ovr_jaccard_score"
   ]
  },
  {
   "cell_type": "code",
   "execution_count": 134,
   "metadata": {},
   "outputs": [
    {
     "data": {
      "text/plain": [
       "8"
      ]
     },
     "execution_count": 134,
     "metadata": {},
     "output_type": "execute_result"
    }
   ],
   "source": [
    "len(ovr_jaccard_score)"
   ]
  },
  {
   "attachments": {},
   "cell_type": "markdown",
   "metadata": {},
   "source": [
    "1. ¿Para qué número de clústeres se obtiene el coeficiente de Silhouette más alto?\n",
    "Con 10 se obtiene el coeficiente de Silhouette mas alto.\n",
    "2. ¿Coincide el coeficiente de Silhouette con el método del codo?\n",
    "Si coincide, en ambos es 10\n",
    "3. ¿Cuántas familias existen entre los ejemplares de malware proporcionados?\n",
    "10 familiass\n",
    "4. ¿Coincide el índice de Jaccard con las familias encontradas?\n",
    "No coincide, el indice de Jaccard tiene 8"
   ]
  }
 ],
 "metadata": {
  "kernelspec": {
   "display_name": "Python 3",
   "language": "python",
   "name": "python3"
  },
  "language_info": {
   "codemirror_mode": {
    "name": "ipython",
    "version": 3
   },
   "file_extension": ".py",
   "mimetype": "text/x-python",
   "name": "python",
   "nbconvert_exporter": "python",
   "pygments_lexer": "ipython3",
   "version": "3.10.6"
  },
  "orig_nbformat": 4
 },
 "nbformat": 4,
 "nbformat_minor": 2
}
